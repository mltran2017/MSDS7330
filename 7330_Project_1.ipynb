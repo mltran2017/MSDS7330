{
 "cells": [
  {
   "cell_type": "code",
   "execution_count": null,
   "metadata": {},
   "outputs": [],
   "source": [
    "import mysql.connector\n",
    "from mysql.connector import errorcode\n",
    "import pandas as pd\n",
    "\n",
    "#Reads in your input for user name and password\n",
    "myuser = input(\"User Name: \")\n",
    "mypassw = input(\"Password: \")"
   ]
  },
  {
   "cell_type": "code",
   "execution_count": null,
   "metadata": {},
   "outputs": [],
   "source": [
    "#This tries to connect to the database\n",
    "try:\n",
    "    cnx = mysql.connector.connect(user = myuser, password = mypassw,\n",
    "                              host = '127.0.0.1',\n",
    "                              database = 'datacleandb')\n",
    "    print(\"connected\")\n",
    "except mysql.connector.Error as err:\n",
    "  if err.errno == errorcode.ER_ACCESS_DENIED_ERROR:\n",
    "    print(\"Something is wrong with your user name or password\")\n",
    "  elif err.errno == errorcode.ER_BAD_DB_ERROR:\n",
    "    print(\"Database does not exist\")\n",
    "  else:\n",
    "    print(err)"
   ]
  },
  {
   "cell_type": "code",
   "execution_count": null,
   "metadata": {},
   "outputs": [],
   "source": [
    "#|TEMP| Doing an SQL query to the database to make sure it is working\n",
    "sqlcommand = 'SELECT COUNT(*) FROM mydata'\n",
    "df = pd.read_sql_query(sqlcommand, con = cnx)\n",
    "print(df)"
   ]
  },
  {
   "cell_type": "code",
   "execution_count": null,
   "metadata": {},
   "outputs": [],
   "source": [
    "#Create a table\n",
    "cursor = cnx.cursor()\n",
    "sqlcommand = \"\"\"CREATE TABLE IF NOT EXISTS mydata_lookup(\n",
    "                Valid_Sub_Vendor VARCHAR(255) PRIMARY KEY,\n",
    "                is_Supplier_Name BOOL)\"\"\"\n",
    "cursor.execute(sqlcommand, multi = False)\n",
    "cnx.commit()"
   ]
  },
  {
   "cell_type": "code",
   "execution_count": null,
   "metadata": {},
   "outputs": [],
   "source": [
    "#Showing all the tables in the database\n",
    "sqlcommand = 'SHOW TABLES'\n",
    "df = pd.read_sql(sqlcommand, con = cnx)\n",
    "print( df )\n",
    "print( \"\\n\" ) #\\n just prints a new line\n",
    "\n",
    "#Changes the column name to Tables\n",
    "df.columns = ['Tables']\n",
    "print( df )\n",
    "print( \"\\n\" )\n",
    "\n",
    "#Prints out just column 0 (which in this case is the only column)\n",
    "print( df.iloc[:,0] )\n",
    "print( \"\\n\" )\n",
    "\n",
    "#Prints out just the first row (row 0)\n",
    "print( df.iloc[0,:] )\n",
    "print( \"\\n\" )\n",
    "\n",
    "#Does not print out any of the row numbers\n",
    "print( df.to_string(index = False) )"
   ]
  },
  {
   "cell_type": "code",
   "execution_count": null,
   "metadata": {},
   "outputs": [],
   "source": [
    "#Closes the connection to the database\n",
    "cnx.close()"
   ]
  }
 ],
 "metadata": {
  "kernelspec": {
   "display_name": "Python 3",
   "language": "python",
   "name": "python3"
  },
  "language_info": {
   "codemirror_mode": {
    "name": "ipython",
    "version": 3
   },
   "file_extension": ".py",
   "mimetype": "text/x-python",
   "name": "python",
   "nbconvert_exporter": "python",
   "pygments_lexer": "ipython3",
   "version": "3.7.2"
  }
 },
 "nbformat": 4,
 "nbformat_minor": 2
}
