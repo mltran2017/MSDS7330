{
 "cells": [
  {
   "cell_type": "markdown",
   "metadata": {},
   "source": [
    "## Import libraries and get username/password"
   ]
  },
  {
   "cell_type": "code",
   "execution_count": 1,
   "metadata": {},
   "outputs": [
    {
     "name": "stdout",
     "output_type": "stream",
     "text": [
      "User Name: root\n",
      "Password: twigthegreat\n"
     ]
    }
   ],
   "source": [
    "import mysql.connector\n",
    "from mysql.connector import errorcode\n",
    "import pandas as pd\n",
    "import difflib\n",
    "from difflib import SequenceMatcher as SM\n",
    "from IPython.display import clear_output\n",
    "\n",
    "#Reads in your input for user name and password\n",
    "myuser = input(\"User Name: \")\n",
    "mypassw = input(\"Password: \")"
   ]
  },
  {
   "cell_type": "markdown",
   "metadata": {},
   "source": [
    "## Connect to the database"
   ]
  },
  {
   "cell_type": "code",
   "execution_count": 2,
   "metadata": {},
   "outputs": [
    {
     "name": "stdout",
     "output_type": "stream",
     "text": [
      "connected\n"
     ]
    }
   ],
   "source": [
    "#This tries to connect to the database\n",
    "try:\n",
    "    cnx = mysql.connector.connect(user = myuser, password = mypassw,\n",
    "                              host = '127.0.0.1',\n",
    "                              database = 'datacleandb')\n",
    "    print(\"connected\")\n",
    "except mysql.connector.Error as err:\n",
    "  if err.errno == errorcode.ER_ACCESS_DENIED_ERROR:\n",
    "    print(\"Something is wrong with your user name or password\")\n",
    "  elif err.errno == errorcode.ER_BAD_DB_ERROR:\n",
    "    print(\"Database does not exist\")\n",
    "  else:\n",
    "    print(err)"
   ]
  },
  {
   "cell_type": "markdown",
   "metadata": {},
   "source": [
    "## Create lookup and mistake tables"
   ]
  },
  {
   "cell_type": "code",
   "execution_count": 3,
   "metadata": {},
   "outputs": [],
   "source": [
    "#Create the lookup Table\n",
    "cursor = cnx.cursor()\n",
    "sqlcommand = \"\"\"CREATE TABLE IF NOT EXISTS mydata_lookup(\n",
    "                Valid_Sub_Vendor VARCHAR(255) PRIMARY KEY,\n",
    "                is_Supplier_Name BOOL)\"\"\"\n",
    "cursor.execute(sqlcommand, multi = False)\n",
    "#Creates the mistake table, so that we can compare to common mistakes\n",
    "sqlcommand = \"\"\"CREATE TABLE IF NOT EXISTS mydata_lookup_mistakes(\n",
    "                Correct_Vendor VARCHAR(255),\n",
    "                Mistake_Vendor VARCHAR(255),\n",
    "                FOREIGN KEY(Correct_Vendor) REFERENCES mydata_lookup(Valid_Sub_Vendor),\n",
    "                PRIMARY KEY(Correct_Vendor, Mistake_Vendor))\"\"\"\n",
    "cursor.execute(sqlcommand, multi = False)\n",
    "cnx.commit()"
   ]
  },
  {
   "cell_type": "markdown",
   "metadata": {},
   "source": [
    "## TEMP: add values to Lookup and Mistake tables"
   ]
  },
  {
   "cell_type": "code",
   "execution_count": null,
   "metadata": {},
   "outputs": [],
   "source": [
    "#---DO NOT RUN MULTIPLE TIMES ---\n",
    "#TEMP ADDING TO THE LOOKUP TABLE\n",
    "sqlcommand = \"\"\"INSERT INTO mydata_lookup \n",
    "                VALUES ('Stars Prime', FALSE)\"\"\"\n",
    "cursor.execute(sqlcommand, multi = False)\n",
    "cnx.commit()"
   ]
  },
  {
   "cell_type": "code",
   "execution_count": null,
   "metadata": {},
   "outputs": [],
   "source": [
    "#---DO NOT RUN MULTIPLE TIMES---\n",
    "#TEMP ADDING TO THE MISTAKE TABLE\n",
    "sqlcommand = \"\"\"INSERT INTO mydata_lookup_mistakes \n",
    "                VALUES ('Claridge', 'Claridges')\"\"\"\n",
    "cursor.execute(sqlcommand, multi = False)\n",
    "cnx.commit()"
   ]
  },
  {
   "cell_type": "markdown",
   "metadata": {},
   "source": [
    "# Start of Program Code"
   ]
  },
  {
   "cell_type": "markdown",
   "metadata": {},
   "source": [
    "## import lookup and mistake from MySQL"
   ]
  },
  {
   "cell_type": "code",
   "execution_count": 4,
   "metadata": {},
   "outputs": [],
   "source": [
    "#Function to import the lookup table\n",
    "def importLookupTable(connection):\n",
    "    sqlcommand = 'SELECT * FROM mydata_lookup'\n",
    "    lookup_table = pd.DataFrame(columns = ['Valid_Sub_Vendor','is_Supplier_Name'])\n",
    "    try:\n",
    "        lookup_table = pd.read_sql(sqlcommand, con = connection)\n",
    "    except:\n",
    "        print(\"mydata_lookup table is empty\")\n",
    "    return lookup_table\n",
    "\n",
    "#Function to import the mistake table\n",
    "def importMistakeTable(connection):\n",
    "    sqlcommand = 'SELECT * FROM mydata_lookup_mistakes'\n",
    "    mistake_table = pd.DataFrame(columns = ['Correct_Vendor','Mistake_Vendor'])\n",
    "    try:\n",
    "        mistake_table = pd.read_sql(sqlcommand, con = connection)\n",
    "    except:\n",
    "        print(\"mydata_lookup_mistake table is empty\")\n",
    "    return mistake_table"
   ]
  },
  {
   "cell_type": "markdown",
   "metadata": {},
   "source": [
    "## Finds % similarity in lookup"
   ]
  },
  {
   "cell_type": "code",
   "execution_count": 5,
   "metadata": {},
   "outputs": [],
   "source": [
    "#Name matching in lookup table\n",
    "def nameMatchingLookup(val, lookup_df):\n",
    "    #Creates the empty dataframe of ratios\n",
    "    ratio_df = pd.DataFrame(columns = ['Ratio','LookupVal','MistakeVal'])\n",
    "    #Makes the value to compare lowercase\n",
    "    val = val.lower()\n",
    "\n",
    "    #Iterates through all of the rows in the lookup table\n",
    "    for index, row in lookup_df.iterrows():\n",
    "        #Runs the sequence matcher\n",
    "        sub = SM( a = val, b = row['Valid_Sub_Vendor'].lower() )\n",
    "        #Saves the ratio and name into the dataframe\n",
    "        ratio_df.loc[index] = [round(sub.ratio(), 3), row['Valid_Sub_Vendor'], None]\n",
    "\n",
    "    #Returns the ratio dataframe sorted\n",
    "    return ratio_df.sort_values(by = ['Ratio'], ascending = False)"
   ]
  },
  {
   "cell_type": "markdown",
   "metadata": {},
   "source": [
    "## Finds % similarity in mistake"
   ]
  },
  {
   "cell_type": "code",
   "execution_count": 6,
   "metadata": {},
   "outputs": [],
   "source": [
    "#Name matching in mistake table\n",
    "def nameMatchingMistake(val, mistake_df):\n",
    "    #Creates the empty dataframe of ratios\n",
    "    ratio_df = pd.DataFrame(columns = ['Ratio','LookupVal','MistakeVal'])\n",
    "    #Makes the value to compare lowercase\n",
    "    val = val.lower()\n",
    "\n",
    "    #Iterates through all of the rows in the mistake table\n",
    "    for index, row in mistake_df.iterrows():\n",
    "        #Runs the sequence matcher\n",
    "        sub = SM( a = val, b = row['Mistake_Vendor'].lower() )\n",
    "        #Saves the ratio and name into the dataframe\n",
    "        ratio_df.loc[index] = [round(sub.ratio(), 3), row['Correct_Vendor'], row['Mistake_Vendor']]\n",
    "\n",
    "    #Returns the ratio dataframe sorted\n",
    "    return ratio_df.sort_values(by = ['Ratio'], ascending = False)"
   ]
  },
  {
   "cell_type": "markdown",
   "metadata": {},
   "source": [
    "## Merges lookup and mistake %'s"
   ]
  },
  {
   "cell_type": "code",
   "execution_count": 7,
   "metadata": {},
   "outputs": [],
   "source": [
    "#Gets all the ratio's, combines and sorts\n",
    "def nameMatching(rowVal, lookup_df, mistake_df):\n",
    "    #Compare the value to the ones in the tables\n",
    "    ratio_l_df = nameMatchingLookup(rowVal, lookup_df)\n",
    "    ratio_m_df = nameMatchingMistake(rowVal, mistake_df)\n",
    "    \n",
    "    #Merge the two tables together, remove 'duplicates' keep max\n",
    "    ratio_df = pd.concat([ratio_l_df, ratio_m_df], ignore_index = True)\n",
    "    ratio_df = ratio_df.loc[ratio_df.reset_index().groupby(['LookupVal'])['Ratio'].idxmax()]\n",
    "    ratio_df = ratio_df.sort_values(by = ['Ratio'], ascending = False)\n",
    "    return ratio_df.reset_index(drop = True)"
   ]
  },
  {
   "cell_type": "markdown",
   "metadata": {},
   "source": [
    "##### Checks to see if a value is a number"
   ]
  },
  {
   "cell_type": "code",
   "execution_count": 8,
   "metadata": {},
   "outputs": [],
   "source": [
    "#Checks if it is a number\n",
    "def isNumber(s):\n",
    "    try:\n",
    "        int(s)\n",
    "        return True\n",
    "    except ValueError:\n",
    "        return False "
   ]
  },
  {
   "cell_type": "markdown",
   "metadata": {},
   "source": [
    "##### User Interface GUI for fakeGUI"
   ]
  },
  {
   "cell_type": "code",
   "execution_count": 9,
   "metadata": {},
   "outputs": [],
   "source": [
    "def theUI(name1, name2, ind):\n",
    "    if ind == 1:\n",
    "        print(\"======================================================\")\n",
    "        print(name1)\n",
    "        print(\"------------------------------------------------------\")\n",
    "        print(\"c          : Create Custom Value\")\n",
    "        print(\"<num>      : Choose row # <num>\")\n",
    "        print(\"<other>    : Anything else to see next set of rows\")\n",
    "        print(\"------------------------------------------------------\")\n",
    "        print(\"\")\n",
    "    elif ind == 2:\n",
    "        print(\"======================================================\")\n",
    "        print(name1)\n",
    "        print(name2)\n",
    "        print(\"------------------------------------------------------\")\n",
    "        print(\"c          : Use the Custom Value\")\n",
    "        print(\"<num>      : Choose row # <num> instead of custom\")\n",
    "        print(\"<other>    : Anything else to see next set of rows\")\n",
    "        print(\"------------------------------------------------------\")\n",
    "        print(\"\")\n"
   ]
  },
  {
   "cell_type": "markdown",
   "metadata": {},
   "source": [
    "## Makes the User Interface (also used by customValue())"
   ]
  },
  {
   "cell_type": "code",
   "execution_count": 10,
   "metadata": {},
   "outputs": [],
   "source": [
    "#Fake GUI - NOTE: customValue() also uses this. BEWARE OF CHANGES \n",
    "def fakeGUI(ratio, name, indicator, name2):\n",
    "    topindex = ratio['Ratio'].count() - 1\n",
    "    show = 5 #The number of lookup's to show at a time\n",
    "    x = 0\n",
    "    \n",
    "    #print(\"++++c: custom, <num>: the row, else: see next row++++\")\n",
    "    #print(\"Current: \", name)\n",
    "    while True:\n",
    "        clear_output()\n",
    "        theUI(name, name2, indicator)\n",
    "        #Makes sure to bound our index\n",
    "        top = x + show - 1\n",
    "        #print(\"X: \", x, \", \", \"TOP: \", top, \", IND: \", topindex)#0, 1, 2\n",
    "        if top > topindex:\n",
    "            top = topindex\n",
    "            \n",
    "        #Print the current rows in the result\n",
    "        l = [i for i in range(x,top+1)]\n",
    "        print(ratio.iloc[l])\n",
    "\n",
    "        #Loops until we get a valid user entry\n",
    "        while True:\n",
    "            #Get the user input\n",
    "            #val = input(\"Which (if any) is correct: \")\n",
    "            val = input(\"Choice: \")\n",
    "            \n",
    "            #Check to see if the input is valid numerically\n",
    "            if isNumber(val):\n",
    "                #Value is valid, between 0 and the last one\n",
    "                #if int(val) >= x and int(val) <= top:\n",
    "                if int(val) >= 0 and int(val) <= topindex:\n",
    "                    break\n",
    "            elif val == 'c':\n",
    "                val = -2 #Temp value to indicate we want a custom value\n",
    "                break\n",
    "            else:\n",
    "                val = -1 #Temp value to indicate we continue with next ones\n",
    "                break\n",
    "        #END LOOP\n",
    "        \n",
    "        #Returns the value if it is legit\n",
    "        #With a value of -1, we know that we just continue\n",
    "        #with the next ratio values\n",
    "        if val != -1:\n",
    "            return val\n",
    "        \n",
    "        #Increment the x index\n",
    "        x = top + 1\n",
    "        if x > topindex:\n",
    "            #Houston, we have a problem\n",
    "            x = 0\n",
    "    #END LOOP"
   ]
  },
  {
   "cell_type": "markdown",
   "metadata": {},
   "source": [
    "## Adds mistake to local and MySQL"
   ]
  },
  {
   "cell_type": "code",
   "execution_count": 11,
   "metadata": {},
   "outputs": [],
   "source": [
    "#Insert the new mistake into the mistake table\n",
    "def addMistake(mistake, actual, df):\n",
    "    #mistake: mistake value, actual: value in lookup table, df: mistake_df table\n",
    "    \n",
    "    #Make sure the mistake is not the same value as the actual\n",
    "    if mistake == actual:\n",
    "        return df\n",
    "    \n",
    "    #Check if the value already exists in the table\n",
    "    for i, r in df.iterrows():\n",
    "        if (r.iloc[0] == actual) & (r.iloc[1] == mistake):\n",
    "            return df\n",
    "\n",
    "    #Add the mistake to the server\n",
    "    try:\n",
    "        sqlcommand = \"INSERT INTO mydata_lookup_mistakes VALUES ( (SELECT Valid_Sub_Vendor FROM mydata_lookup WHERE Valid_Sub_Vendor = \\\"\" + actual + \"\\\"), \\\"\" + mistake + \"\\\")\"\n",
    "        cursor.execute(sqlcommand, multi = False)\n",
    "        cnx.commit()\n",
    "    except:\n",
    "        print(\"Error adding Mistake value to MySQL: \", mistake, \" Actual: \", actual) #------------------------------------------------------------------------------------------------\n",
    "    \n",
    "\n",
    "    #Adds the mistake locally then returns it\n",
    "    return df.append({'Correct_Vendor' : actual, 'Mistake_Vendor' : mistake}, ignore_index = True)"
   ]
  },
  {
   "cell_type": "markdown",
   "metadata": {},
   "source": [
    "## Adds lookup value to local and MySQL"
   ]
  },
  {
   "cell_type": "code",
   "execution_count": 12,
   "metadata": {},
   "outputs": [],
   "source": [
    "#Insert the new value into the lookup table\n",
    "def addLookup(val, df, isSupplier):\n",
    "\n",
    "    #Check if the value already exists in the table\n",
    "    for i, r in df.iterrows():\n",
    "        if r.iloc[0] == val:\n",
    "            return df\n",
    "\n",
    "    #Add the lookup value to the server\n",
    "    try:\n",
    "        truth = \"FALSE\"\n",
    "        if isSupplier:\n",
    "            truth = \"TRUE\"\n",
    "        #sqlcommand = \"INSERT INTO mydata_lookup VALUES ('\" + val + \"', \" + truth + \")\"\n",
    "        sqlcommand = \"INSERT INTO mydata_lookup VALUES (\\\"\" + val + \"\\\", \" + truth + \")\"\n",
    "        cursor.execute(sqlcommand, multi = False)\n",
    "        cnx.commit()\n",
    "    except:\n",
    "        print(\"Error adding Lookup value to MySQL: \", val)\n",
    "\n",
    "    sup = 0\n",
    "    if isSupplier:\n",
    "        sup = 1\n",
    "    \n",
    "    #Adds the lookup locally then returns it\n",
    "    return df.append({'Valid_Sub_Vendor' : val, 'is_Supplier_Name' : sup}, ignore_index = True)"
   ]
  },
  {
   "cell_type": "markdown",
   "metadata": {},
   "source": [
    "## Run when a user wants to use a custom value"
   ]
  },
  {
   "cell_type": "code",
   "execution_count": 13,
   "metadata": {},
   "outputs": [],
   "source": [
    "def customValue(l_df, m_df, name):\n",
    "    keep = 'y'\n",
    "    cust = ''\n",
    "    #0: using custom, 1: using prev & update mistake table, 2: using prev\n",
    "    vect = [0, \"lookup\", \"mistake\"] #[\"type\", \"lookup\", \"mistake\"]\n",
    "    while True:\n",
    "        #Gets the custom value from the user\n",
    "        cust = input(\"Custom: \")\n",
    "        keep = input(\"Keep Value (y/n): \")\n",
    "        if keep == 'y':\n",
    "            break\n",
    "    \n",
    "    #CHECK TO SEE IF THE USER WANTS A ALREADY MADE ONE----------\n",
    "    ratio_df = nameMatching(cust, l_df, m_df)\n",
    "    \n",
    "    #print(\"-----------------------------------------------------\")\n",
    "    #GUI: Do something with the information you have received\n",
    "    result = int(fakeGUI(ratio_df, name, 2, cust))\n",
    "    \n",
    "    if result == -2:\n",
    "        #Use the custom typed one\n",
    "        vect = [0, cust, name]\n",
    "    else:\n",
    "        #Use the one already there\n",
    "        if ratio_df.iloc[result,0] != 1:\n",
    "            #not a previously made mistake: insert into local and mysql mistake table\n",
    "            vect = [1, ratio_df.iloc[result,1], name]\n",
    "        else:\n",
    "            vect = [2, ratio_df.iloc[result,1], None]\n",
    "    #END CHECK-------------------------------------------------\n",
    "    \n",
    "    return vect"
   ]
  },
  {
   "cell_type": "markdown",
   "metadata": {},
   "source": [
    "### Queries the database and populates the lookup table from old data"
   ]
  },
  {
   "cell_type": "code",
   "execution_count": 14,
   "metadata": {},
   "outputs": [],
   "source": [
    "def poplookup():\n",
    "    try:\n",
    "        #UPDATES the lookup table with previously made values from mydata table\n",
    "        sqlcommand = \"\"\"INSERT INTO mydata_lookup( Valid_Sub_Vendor, is_Supplier_Name )\n",
    "        SELECT DISTINCT Audit_Dashboard_Vendor, FALSE\n",
    "        FROM mydata\n",
    "        WHERE Audit_Dashboard_Vendor is not NULL AND\n",
    "        Audit_Dashboard_Vendor != Supplier_name\"\"\"\n",
    "        cursor.execute(sqlcommand, multi = False)\n",
    "        cnx.commit()\n",
    "    except:\n",
    "        print(\"Danger Will Robinson, Danger!\")"
   ]
  },
  {
   "cell_type": "markdown",
   "metadata": {},
   "source": [
    "### Queries the database and populates the mistake table from old data"
   ]
  },
  {
   "cell_type": "code",
   "execution_count": 15,
   "metadata": {},
   "outputs": [],
   "source": [
    "def popmistake():\n",
    "    try:\n",
    "        #UPDATES the lookup table with previously made values from mydata table\n",
    "        sqlcommand = \"\"\"INSERT INTO mydata_lookup_mistakes( Mistake_Vendor, Correct_Vendor )\n",
    "        SELECT DISTINCT Sub_Vendor, Audit_Dashboard_Vendor\n",
    "        FROM mydata\n",
    "        WHERE Audit_Dashboard_Vendor is not NULL AND\n",
    "        Audit_Dashboard_Vendor != Supplier_name AND\n",
    "        Sub_Vendor is not NULL\"\"\"\n",
    "        cursor.execute(sqlcommand, multi = False)\n",
    "        cnx.commit()\n",
    "    except:\n",
    "        print(\"Danger Will Robinson, Danger2!\")"
   ]
  },
  {
   "cell_type": "markdown",
   "metadata": {},
   "source": [
    "### Adds the value to mydata database"
   ]
  },
  {
   "cell_type": "code",
   "execution_count": 27,
   "metadata": {},
   "outputs": [],
   "source": [
    "def addDatabase(origVal, goodVal):\n",
    "    #Insert the change into mydata.Audit_Dashboard_Vendor\n",
    "    try:\n",
    "        sqlcommand = \"\"\"UPDATE mydata\n",
    "        SET Audit_Dashboard_Vendor = \\\"%s\\\"\n",
    "        WHERE Sub_Vendor = \\\"%s\\\"\"\"\" %(goodVal, origVal)\n",
    "        cursor.execute(sqlcommand, multi = False)\n",
    "        cnx.commit()\n",
    "    except:\n",
    "        print(\"Adding to mydata has a problem\")"
   ]
  },
  {
   "cell_type": "markdown",
   "metadata": {},
   "source": [
    "# Main Program Loop"
   ]
  },
  {
   "cell_type": "markdown",
   "metadata": {},
   "source": [
    "### Populate the lookup/mistake tables from old data"
   ]
  },
  {
   "cell_type": "code",
   "execution_count": null,
   "metadata": {},
   "outputs": [],
   "source": [
    "poplookup()\n",
    "popmistake()"
   ]
  },
  {
   "cell_type": "markdown",
   "metadata": {},
   "source": [
    "### Stuff before comparing"
   ]
  },
  {
   "cell_type": "code",
   "execution_count": 31,
   "metadata": {},
   "outputs": [
    {
     "name": "stdout",
     "output_type": "stream",
     "text": [
      "TODO: make the NULL Sub_Vendor rows auto complete\n"
     ]
    }
   ],
   "source": [
    "#Import the lookup and mistake tables\n",
    "lookup_df = importLookupTable(cnx)\n",
    "mistake_df = importMistakeTable(cnx)\n",
    "\n",
    "print(\"TODO: make the NULL Sub_Vendor rows auto complete\")\n",
    "\n",
    "#EX: SELECT * FROM tbl LIMIT 5,10;  # Retrieve rows 6-15\n",
    "\n",
    "#Gets how many rows there are in the database\n",
    "sqlcommand = \"SELECT COUNT(Sub_Vendor) FROM mydata\"\n",
    "s = pd.read_sql(sqlcommand, con = cnx)\n",
    "dbSize = s.iloc[0]['COUNT(Sub_Vendor)']\n",
    "\n",
    "mysql_index = 0 #Starting index\n",
    "chunksize = 2 #How many we get at a time from the database"
   ]
  },
  {
   "cell_type": "markdown",
   "metadata": {},
   "source": [
    "### Iterating through the database rows"
   ]
  },
  {
   "cell_type": "code",
   "execution_count": 34,
   "metadata": {},
   "outputs": [
    {
     "name": "stdout",
     "output_type": "stream",
     "text": [
      "======================================================\n",
      "Decipher Tools\n",
      "Decipher Tools\n",
      "------------------------------------------------------\n",
      "c          : Use the Custom Value\n",
      "<num>      : Choose row # <num> instead of custom\n",
      "<other>    : Anything else to see next set of rows\n",
      "------------------------------------------------------\n",
      "\n",
      "   Ratio        LookupVal    MistakeVal\n",
      "0  0.640            Hertz   Hertz Tolls\n",
      "1  0.538           Budget  Budget Tolls\n",
      "2  0.500             Avis    Avis Tolls\n",
      "3  0.500   Kimpton Hotels          None\n",
      "4  0.483  DELTA AIR LINES          None\n",
      "Choice: c\n",
      "======================================================\n",
      "Quit? (y/n):y\n"
     ]
    }
   ],
   "source": [
    "#loop through the rows in MySQL by 'chunksize' at a time\n",
    "while True:\n",
    "    #Get the non-null and non-completed rows # Audit_Dashboard_Vendor IS NULL AND\n",
    "    sqlcommand = \"SELECT Sub_Vendor, Audit_Dashboard_Vendor as ADV FROM mydata WHERE Sub_Vendor IS NOT NULL LIMIT\"\n",
    "    #Adds which rows are to be used onto the SQL command\n",
    "    sqlcommand = sqlcommand + \" \" + str(mysql_index) + \",\" + str(chunksize)\n",
    "    mydata_df = pd.read_sql(sqlcommand, con = cnx)\n",
    "    print(\"======================================================\")\n",
    "\n",
    "    #Loop through the rows to clean (non NULL)\n",
    "    for index, row in mydata_df.iterrows():\n",
    "        if row['ADV'] != None:\n",
    "            continue\n",
    "        #Generates all the ratios [rows of: ['Ratio','LookupVal','MistakeVal']]\n",
    "        ratio_df = nameMatching(row['Sub_Vendor'], lookup_df, mistake_df)\n",
    "        \n",
    "        #Auto chooses for the user if there is one that perfectly matches\n",
    "        result = 0\n",
    "        if ratio_df.empty or ratio_df.iloc[result, 0] < 1:\n",
    "            #GUI: Do something with the information you have received\n",
    "            result = int(fakeGUI(ratio_df, row['Sub_Vendor'],1,\"\"))\n",
    "        else:\n",
    "            print(\"Perfect match found: \", ratio_df.iloc[result, 1], \" for \", row['Sub_Vendor'])\n",
    "\n",
    "        if result >= 0: #User chose a row\n",
    "            if ratio_df.iloc[result,0] != 1:\n",
    "                #not a previously made mistake: insert into local and mysql mistake table\n",
    "                mistake_df = addMistake(row['Sub_Vendor'], ratio_df.iloc[result,1], mistake_df)\n",
    "            #Insert change into the database\n",
    "            addDatabase(row[0], ratio_df.iloc[result, 1])\n",
    "        elif result == -2: #User chose to make custom result\n",
    "            #choice format [\"type\", \"lookupVal\", \"mistakeVal\"]\n",
    "            choice = customValue(lookup_df, mistake_df, row['Sub_Vendor'])\n",
    "            #0: using custom, 1: using prev & update mistake table, 2: using prev\n",
    "            if choice[0] == 0: #Use the custom typed one\n",
    "                #Add it to the lookup table\n",
    "                lookup_df = addLookup(choice[1], lookup_df, False)\n",
    "                #Add it to the mistake table\n",
    "                mistake_df = addMistake(row['Sub_Vendor'], choice[1], mistake_df)\n",
    "            elif choice[0] == 1: #Use one already in lookup\n",
    "                #Add it to the lookup table\n",
    "                lookup_df = addLookup(choice[1], lookup_df, False)\n",
    "                #Add it to the mistake table\n",
    "                mistake_df = addMistake(row['Sub_Vendor'], choice[1], mistake_df)\n",
    "            else: #has to be 2  #Use one already in lookup\n",
    "                #Add it to the lookup table\n",
    "                lookup_df = addLookup(choice[1], lookup_df, False)\n",
    "            #Insert change into the database\n",
    "            addDatabase(row[0], choice[1])\n",
    "        #END ELIF\n",
    "    #END LOOP\n",
    "    \n",
    "    #Allow the user to quit now that the chunk of data is completed\n",
    "    print(\"======================================================\")\n",
    "    quit = input(\"Quit? (y/n):\")\n",
    "    if quit == \"y\":\n",
    "        break\n",
    "    #clear_output()\n",
    "    #Done with current data from database\n",
    "    mysql_index = mysql_index + chunksize\n",
    "    if mysql_index >= dbSize: #no more items in the database\n",
    "        break\n",
    "    if (mysql_index + chunksize) >= dbSize: #can't take the full chunksize\n",
    "        chunksize = dbSize - mysql_index\n",
    "    \n",
    "#END LOOP\n",
    "#END OF THE ACTUAL PROGRAM-----------------------------------------------------------"
   ]
  },
  {
   "cell_type": "markdown",
   "metadata": {},
   "source": [
    "#### Close connections when you are done"
   ]
  },
  {
   "cell_type": "code",
   "execution_count": 63,
   "metadata": {},
   "outputs": [],
   "source": [
    "#Closes the connection to the database and the cursor\n",
    "cursor.close()\n",
    "cnx.close()"
   ]
  },
  {
   "cell_type": "markdown",
   "metadata": {},
   "source": [
    "### Random code I was testing"
   ]
  },
  {
   "cell_type": "code",
   "execution_count": 26,
   "metadata": {},
   "outputs": [
    {
     "name": "stdout",
     "output_type": "stream",
     "text": [
      "UPDATE mydata\n",
      "    SET Audit_Dashboard_Vendor = \"Hillstone\"\n",
      "    WHERE Sub_Vendor = \"Hillstone\"\n"
     ]
    }
   ],
   "source": [
    "#Insert the change into mydata.Audit_Dashboard_Vendor\n",
    "goodVal = \"Hillstone\"\n",
    "origVal = \"Hillstone\"\n",
    "try:\n",
    "    sqlcommand = \"\"\"UPDATE mydata\n",
    "    SET Audit_Dashboard_Vendor = \\\"%s\\\"\n",
    "    WHERE Sub_Vendor = \\\"%s\\\"\"\"\" %(goodVal, origVal)\n",
    "    cursor.execute(sqlcommand, multi = False)\n",
    "    cnx.commit()\n",
    "except:\n",
    "    print(\"Adding to mydata has a problem\")\n",
    "\n",
    "print(sqlcommand)"
   ]
  }
 ],
 "metadata": {
  "kernelspec": {
   "display_name": "Python 3",
   "language": "python",
   "name": "python3"
  },
  "language_info": {
   "codemirror_mode": {
    "name": "ipython",
    "version": 3
   },
   "file_extension": ".py",
   "mimetype": "text/x-python",
   "name": "python",
   "nbconvert_exporter": "python",
   "pygments_lexer": "ipython3",
   "version": "3.7.2"
  }
 },
 "nbformat": 4,
 "nbformat_minor": 2
}
