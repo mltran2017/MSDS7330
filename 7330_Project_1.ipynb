{
 "cells": [
  {
   "cell_type": "markdown",
   "metadata": {},
   "source": [
    "## Import libraries and get username/password"
   ]
  },
  {
   "cell_type": "code",
   "execution_count": null,
   "metadata": {},
   "outputs": [],
   "source": [
    "import mysql.connector\n",
    "from mysql.connector import errorcode\n",
    "import pandas as pd\n",
    "import difflib\n",
    "from difflib import SequenceMatcher as SM\n",
    "\n",
    "#Reads in your input for user name and password\n",
    "myuser = input(\"User Name: \")\n",
    "mypassw = input(\"Password: \")"
   ]
  },
  {
   "cell_type": "markdown",
   "metadata": {},
   "source": [
    "## Connect to the database"
   ]
  },
  {
   "cell_type": "code",
   "execution_count": null,
   "metadata": {},
   "outputs": [],
   "source": [
    "#This tries to connect to the database\n",
    "try:\n",
    "    cnx = mysql.connector.connect(user = myuser, password = mypassw,\n",
    "                              host = '127.0.0.1',\n",
    "                              database = 'datacleandb')\n",
    "    print(\"connected\")\n",
    "except mysql.connector.Error as err:\n",
    "  if err.errno == errorcode.ER_ACCESS_DENIED_ERROR:\n",
    "    print(\"Something is wrong with your user name or password\")\n",
    "  elif err.errno == errorcode.ER_BAD_DB_ERROR:\n",
    "    print(\"Database does not exist\")\n",
    "  else:\n",
    "    print(err)"
   ]
  },
  {
   "cell_type": "markdown",
   "metadata": {},
   "source": [
    "## Create lookup and mistake tables"
   ]
  },
  {
   "cell_type": "code",
   "execution_count": null,
   "metadata": {},
   "outputs": [],
   "source": [
    "#Create the lookup Table\n",
    "cursor = cnx.cursor()\n",
    "sqlcommand = \"\"\"CREATE TABLE IF NOT EXISTS mydata_lookup(\n",
    "                Valid_Sub_Vendor VARCHAR(255) PRIMARY KEY,\n",
    "                is_Supplier_Name BOOL)\"\"\"\n",
    "cursor.execute(sqlcommand, multi = False)\n",
    "#Creates the mistake table, so that we can compare to common mistakes\n",
    "sqlcommand = \"\"\"CREATE TABLE IF NOT EXISTS mydata_lookup_mistakes(\n",
    "                Correct_Vendor VARCHAR(255),\n",
    "                Mistake_Vendor VARCHAR(255),\n",
    "                FOREIGN KEY(Correct_Vendor) REFERENCES mydata_lookup(Valid_Sub_Vendor),\n",
    "                PRIMARY KEY(Correct_Vendor, Mistake_Vendor))\"\"\"\n",
    "cursor.execute(sqlcommand, multi = False)\n",
    "cnx.commit()"
   ]
  },
  {
   "cell_type": "markdown",
   "metadata": {},
   "source": [
    "## TEMP: add values to Lookup and Mistake tables"
   ]
  },
  {
   "cell_type": "code",
   "execution_count": null,
   "metadata": {},
   "outputs": [],
   "source": [
    "#---DO NOT RUN MULTIPLE TIMES ---\n",
    "#TEMP ADDING TO THE LOOKUP TABLE\n",
    "sqlcommand = \"\"\"INSERT INTO mydata_lookup \n",
    "                VALUES ('Stars Prime', FALSE)\"\"\"\n",
    "cursor.execute(sqlcommand, multi = False)\n",
    "cnx.commit()"
   ]
  },
  {
   "cell_type": "code",
   "execution_count": null,
   "metadata": {},
   "outputs": [],
   "source": [
    "#---DO NOT RUN MULTIPLE TIMES---\n",
    "#TEMP ADDING TO THE MISTAKE TABLE\n",
    "sqlcommand = \"\"\"INSERT INTO mydata_lookup_mistakes \n",
    "                VALUES ('Claridge', 'Claridges')\"\"\"\n",
    "cursor.execute(sqlcommand, multi = False)\n",
    "cnx.commit()"
   ]
  },
  {
   "cell_type": "markdown",
   "metadata": {},
   "source": [
    "# Start of Program Code"
   ]
  },
  {
   "cell_type": "markdown",
   "metadata": {},
   "source": [
    "## import lookup and mistake from MySQL"
   ]
  },
  {
   "cell_type": "code",
   "execution_count": null,
   "metadata": {},
   "outputs": [],
   "source": [
    "#Function to import the lookup table\n",
    "def importLookupTable(connection):\n",
    "    sqlcommand = 'SELECT * FROM mydata_lookup'\n",
    "    lookup_table = pd.DataFrame(columns = ['Valid_Sub_Vendor','is_Supplier_Name'])\n",
    "    try:\n",
    "        lookup_table = pd.read_sql(sqlcommand, con = connection)\n",
    "    except:\n",
    "        print(\"mydata_lookup table is empty\")\n",
    "    return lookup_table\n",
    "\n",
    "#Function to import the mistake table\n",
    "def importMistakeTable(connection):\n",
    "    sqlcommand = 'SELECT * FROM mydata_lookup_mistakes'\n",
    "    mistake_table = pd.DataFrame(columns = ['Correct_Vendor','Mistake_Vendor'])\n",
    "    try:\n",
    "        mistake_table = pd.read_sql(sqlcommand, con = connection)\n",
    "    except:\n",
    "        print(\"mydata_lookup_mistake table is empty\")\n",
    "    return mistake_table"
   ]
  },
  {
   "cell_type": "markdown",
   "metadata": {},
   "source": [
    "## Finds % similarity in lookup"
   ]
  },
  {
   "cell_type": "code",
   "execution_count": null,
   "metadata": {},
   "outputs": [],
   "source": [
    "#Name matching in lookup table\n",
    "def nameMatchingLookup(val, lookup_df):\n",
    "    #Creates the empty dataframe of ratios\n",
    "    ratio_df = pd.DataFrame(columns = ['Ratio','LookupVal','MistakeVal'])\n",
    "    #Makes the value to compare lowercase\n",
    "    val = val.lower()\n",
    "\n",
    "    #Iterates through all of the rows in the lookup table\n",
    "    for index, row in lookup_df.iterrows():\n",
    "        #Runs the sequence matcher\n",
    "        sub = SM( a = val, b = row['Valid_Sub_Vendor'].lower() )\n",
    "        #Saves the ratio and name into the dataframe\n",
    "        ratio_df.loc[index] = [round(sub.ratio(), 3), row['Valid_Sub_Vendor'], None]\n",
    "\n",
    "    #Returns the ratio dataframe sorted\n",
    "    return ratio_df.sort_values(by = ['Ratio'], ascending = False)"
   ]
  },
  {
   "cell_type": "markdown",
   "metadata": {},
   "source": [
    "## Finds % similarity in mistake"
   ]
  },
  {
   "cell_type": "code",
   "execution_count": null,
   "metadata": {},
   "outputs": [],
   "source": [
    "#Name matching in mistake table\n",
    "def nameMatchingMistake(val, mistake_df):\n",
    "    #Creates the empty dataframe of ratios\n",
    "    ratio_df = pd.DataFrame(columns = ['Ratio','LookupVal','MistakeVal'])\n",
    "    #Makes the value to compare lowercase\n",
    "    val = val.lower()\n",
    "\n",
    "    #Iterates through all of the rows in the mistake table\n",
    "    for index, row in mistake_df.iterrows():\n",
    "        #Runs the sequence matcher\n",
    "        sub = SM( a = val, b = row['Mistake_Vendor'].lower() )\n",
    "        #Saves the ratio and name into the dataframe\n",
    "        ratio_df.loc[index] = [round(sub.ratio(), 3), row['Correct_Vendor'], row['Mistake_Vendor']]\n",
    "\n",
    "    #Returns the ratio dataframe sorted\n",
    "    return ratio_df.sort_values(by = ['Ratio'], ascending = False)"
   ]
  },
  {
   "cell_type": "markdown",
   "metadata": {},
   "source": [
    "## Merges lookup and mistake %'s"
   ]
  },
  {
   "cell_type": "code",
   "execution_count": null,
   "metadata": {},
   "outputs": [],
   "source": [
    "#Gets all the ratio's, combines and sorts\n",
    "def nameMatching(rowVal, lookup_df, mistake_df):\n",
    "    #Compare the value to the ones in the tables\n",
    "    ratio_l_df = nameMatchingLookup(rowVal, lookup_df)\n",
    "    ratio_m_df = nameMatchingMistake(rowVal, mistake_df)\n",
    "    \n",
    "    #Merge the two tables together, remove 'duplicates' keep max\n",
    "    ratio_df = pd.concat([ratio_l_df, ratio_m_df], ignore_index = True)\n",
    "    ratio_df = ratio_df.loc[ratio_df.reset_index().groupby(['LookupVal'])['Ratio'].idxmax()]\n",
    "    ratio_df = ratio_df.sort_values(by = ['Ratio'], ascending = False)\n",
    "    return ratio_df.reset_index(drop = True)"
   ]
  },
  {
   "cell_type": "markdown",
   "metadata": {},
   "source": [
    "##### Checks to see if a value is a number"
   ]
  },
  {
   "cell_type": "code",
   "execution_count": null,
   "metadata": {},
   "outputs": [],
   "source": [
    "#Checks if it is a number\n",
    "def isNumber(s):\n",
    "    try:\n",
    "        int(s)\n",
    "        return True\n",
    "    except ValueError:\n",
    "        return False "
   ]
  },
  {
   "cell_type": "markdown",
   "metadata": {},
   "source": [
    "## Makes the User Interface"
   ]
  },
  {
   "cell_type": "code",
   "execution_count": null,
   "metadata": {},
   "outputs": [],
   "source": [
    "#Fake GUI - NOTE: customValue() also uses this. BEWARE OF CHANGES \n",
    "def fakeGUI(ratio, name):\n",
    "    topindex = ratio['Ratio'].count() - 1\n",
    "    show = 10\n",
    "    x = 0\n",
    "    print(\"++++c: custom, <num>: the row, else: see next row++++\")\n",
    "    print(\"Current: \", name)\n",
    "    while True:\n",
    "        #Makes sure to bound our index\n",
    "        top = x + show - 1\n",
    "        if top > topindex:\n",
    "            top = topindex\n",
    "            \n",
    "        #Print the current rows in the result\n",
    "        l = [i for i in range(x,top+1)]\n",
    "        print(ratio.iloc[l])\n",
    "\n",
    "        #Loops until we get a valid user entry\n",
    "        while True:\n",
    "            #Get the user input\n",
    "            val = input(\"Which (if any) is correct: \")\n",
    "            \n",
    "            #Check to see if the input is valid numerically\n",
    "            if isNumber(val):\n",
    "                #Value is one of the ones we displayed\n",
    "                if int(val) >= x and int(val) <= top:\n",
    "                    break\n",
    "            elif val == 'c':\n",
    "                val = -2 #Temp value to indicate we want a custom value\n",
    "                break\n",
    "            else:\n",
    "                val = -1 #Temp value to indicate we continue with next ones\n",
    "                break\n",
    "        #END LOOP\n",
    "        \n",
    "        #Returns the value if it is legit\n",
    "        #With a value of -1, we know that we just continue\n",
    "        #with the next ratio values\n",
    "        if val != -1:\n",
    "            return val\n",
    "        \n",
    "        #Increment the x index\n",
    "        x = top + show\n",
    "        if x > topindex:\n",
    "            #Houston, we have a problem\n",
    "            x = 0\n",
    "    #END LOOP"
   ]
  },
  {
   "cell_type": "markdown",
   "metadata": {},
   "source": [
    "## Adds mistake to local and MySQL"
   ]
  },
  {
   "cell_type": "code",
   "execution_count": null,
   "metadata": {},
   "outputs": [],
   "source": [
    "#Insert the new mistake into the mistake table\n",
    "def addMistake(mistake, actual, df):\n",
    "    #Add the mistake to the server\n",
    "    print(\"TODO: add mistake to server\")\n",
    "\n",
    "    #Adds the mistake locally then returns it\n",
    "    return df.append({'Correct_Vendor' : actual, 'Mistake_Vendor' : mistake}, ignore_index = True)"
   ]
  },
  {
   "cell_type": "markdown",
   "metadata": {},
   "source": [
    "## Adds lookup value to local and MySQL"
   ]
  },
  {
   "cell_type": "code",
   "execution_count": null,
   "metadata": {},
   "outputs": [],
   "source": [
    "#Insert the new value into the lookup table\n",
    "def addLookup(val, df, isSupplier):\n",
    "    #Add the mistake to the server\n",
    "    print(\"TODO: add lookup value to server\")\n",
    "\n",
    "    sup = 0\n",
    "    if isSupplier:\n",
    "        sup = 1\n",
    "    \n",
    "    #Adds the lookup locally then returns it\n",
    "    return df.append({'Valid_Sub_Vendor' : val, 'is_Supplier_Name' : sup}, ignore_index = True)"
   ]
  },
  {
   "cell_type": "markdown",
   "metadata": {},
   "source": [
    "## Run when a user wants to use a custom value"
   ]
  },
  {
   "cell_type": "code",
   "execution_count": null,
   "metadata": {},
   "outputs": [],
   "source": [
    "def customValue(l_df, m_df, name):\n",
    "    keep = 'y'\n",
    "    cust = ''\n",
    "    #0: using custom, 1: using prev & update mistake table, 2: using prev\n",
    "    vect = [0, \"lookup\", \"mistake\"] #[\"type\", \"lookup\", \"mistake\"]\n",
    "    while True:\n",
    "        #Gets the custom value from the user\n",
    "        cust = input(\"Custom Sub_Vendor: \")\n",
    "        keep = input(\"Keep value (y/n): \")\n",
    "        if keep == 'y':\n",
    "            break\n",
    "    \n",
    "    #CHECK TO SEE IF THE USER WANTS A ALREADY MADE ONE----------\n",
    "    ratio_df = nameMatching(cust, l_df, m_df)\n",
    "    \n",
    "    print(\"-----------------------------------------------------\")\n",
    "    #GUI: Do something with the information you have received\n",
    "    result = int(fakeGUI(ratio_df, cust))\n",
    "    \n",
    "    if result == -2:\n",
    "        #Use the custom typed one\n",
    "        vect = [0, cust, name]\n",
    "    else:\n",
    "        #Use the one already there\n",
    "        if ratio_df.iloc[result,0] != 1:\n",
    "            #not a previously made mistake: insert into local and mysql mistake table\n",
    "            vect = [1, ratio_df.iloc[result,1], name]\n",
    "        else:\n",
    "            vect = [2, ratio_df.iloc[result,1], None]\n",
    "    #END CHECK-------------------------------------------------\n",
    "    \n",
    "    return vect"
   ]
  },
  {
   "cell_type": "markdown",
   "metadata": {},
   "source": [
    "# Main Program Loop"
   ]
  },
  {
   "cell_type": "code",
   "execution_count": null,
   "metadata": {},
   "outputs": [],
   "source": [
    "print(\"TODO: populate lookup and mistake tables from old operations\")\n",
    "\n",
    "#Import the lookup and mistake tables\n",
    "lookup_df = importLookupTable(cnx)\n",
    "mistake_df = importMistakeTable(cnx)\n",
    "\n",
    "print(\"TODO: make the NULL Sub_Vendor rows auto complete\")\n",
    "\n",
    "print(\"TODO: loop through the rows in MySQL by 100 at a time\")\n",
    "#Get the non-null and non-completed rows\n",
    "sqlcommand = \"\"\"SELECT Sub_Vendor \n",
    "                FROM mydata \n",
    "                WHERE Audit_Dashboard_Vendor IS NULL AND Sub_Vendor IS NOT NULL\n",
    "                LIMIT 10\"\"\"\n",
    "mydata_df = pd.read_sql(sqlcommand, con = cnx)\n",
    "\n",
    "#Loop through the rows to clean (non NULL)\n",
    "for index, row in mydata_df.iterrows():\n",
    "    #Gets all the ratios\n",
    "    ratio_df = nameMatching(row['Sub_Vendor'], lookup_df, mistake_df)\n",
    "    \n",
    "    #GUI: Do something with the information you have received\n",
    "    result = int(fakeGUI(ratio_df, row['Sub_Vendor']))\n",
    "    \n",
    "    if result >= 0: #User chose a row\n",
    "        if ratio_df.iloc[result,0] != 1:\n",
    "            #not a previously made mistake: insert into local and mysql mistake table\n",
    "            mistake_df = addMistake(row['Sub_Vendor'], ratio_df.iloc[result,1], mistake_df)\n",
    "    elif result == -2: #User chose to make custom result\n",
    "        #choice format [\"type\", \"lookupVal\", \"mistakeVal\"]\n",
    "        choice = customValue(lookup_df, mistake_df, row['Sub_Vendor'])\n",
    "\n",
    "        #0: using custom, 1: using prev & update mistake table, 2: using prev\n",
    "        if choice[0] == 0: #Use the custom typed one\n",
    "            #Add it to the lookup table\n",
    "            lookup_df = addLookup(choice[1], lookup_df, False)\n",
    "            #Add it to the mistake table\n",
    "            mistake_df = addMistake(row['Sub_Vendor'], choice[1], mistake_df)\n",
    "        elif choice[0] == 1: #Use one already in lookup\n",
    "            #Add it to the lookup table\n",
    "            lookup_df = addLookup(choice[1], lookup_df, False)\n",
    "            #Add it to the mistake table\n",
    "            mistake_df = addMistake(row['Sub_Vendor'], choice[1], mistake_df)\n",
    "        else: #has to be 2  #Use one already in lookup\n",
    "            #Add it to the lookup table\n",
    "            lookup_df = addLookup(choice[1], lookup_df, False)\n",
    "\n",
    "    #Insert the change into mydata.Audit_Dashboard_Vendor\n",
    "    print(\"TODO: insert change into mydata\")\n",
    "#END LOOP\n",
    "\n",
    "#END OF THE ACTUAL PROGRAM-----------------------------------------------------------"
   ]
  },
  {
   "cell_type": "markdown",
   "metadata": {},
   "source": [
    "#### Close connections when you are done"
   ]
  },
  {
   "cell_type": "code",
   "execution_count": null,
   "metadata": {},
   "outputs": [],
   "source": [
    "#Closes the connection to the database and the cursor\n",
    "cursor.close()\n",
    "cnx.close()"
   ]
  },
  {
   "cell_type": "code",
   "execution_count": null,
   "metadata": {},
   "outputs": [],
   "source": [
    "print(mistake_df)\n"
   ]
  }
 ],
 "metadata": {
  "kernelspec": {
   "display_name": "Python 3",
   "language": "python",
   "name": "python3"
  },
  "language_info": {
   "codemirror_mode": {
    "name": "ipython",
    "version": 3
   },
   "file_extension": ".py",
   "mimetype": "text/x-python",
   "name": "python",
   "nbconvert_exporter": "python",
   "pygments_lexer": "ipython3",
   "version": "3.7.2"
  }
 },
 "nbformat": 4,
 "nbformat_minor": 2
}
